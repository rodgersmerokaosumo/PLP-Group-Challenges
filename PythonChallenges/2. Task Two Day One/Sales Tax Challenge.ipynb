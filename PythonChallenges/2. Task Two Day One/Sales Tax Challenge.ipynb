{
  "cells": [
    {
      "cell_type": "markdown",
      "id": "7c451f3d",
      "metadata": {
        "id": "7c451f3d"
      },
      "source": [
        "# Sales Tax Challenge – Task Two (Day 1)\n",
        "A painting company has determined that for every 115 square feet of wall space, one gallon of paint and eight hours of labor will be required. The company charges $20.00 per hour for labor. Write a program that asks the user to enter the square feet of wall space to be painted and the price of the paint per gallon. The program should display the following data: \n",
        "* The number of gallons of paint required \n",
        "* The hours of labor required \n",
        "* The cost of the paint \n",
        "* The labor charges \n",
        "* The total cost of the paint job"
      ]
    },
    {
      "cell_type": "code",
      "execution_count": 1,
      "id": "81a7debb",
      "metadata": {
        "id": "81a7debb"
      },
      "outputs": [],
      "source": [
        "def main():\n",
        "    \n",
        "    standard_wall_space = 115\n",
        "    gallons_required = 1\n",
        "    hours_required = 8\n",
        "    labor_per_hour = 20\n",
        "    \n",
        "    try:\n",
        "        square_feet_entered = float(input('Enter the Square Feet of the Wall Space to be Painted: '))\n",
        "        price_paint_gallon = float(input('Enter the Price of the Paint Per Gallon: '))\n",
        "    except ValueError:\n",
        "        print('Values Enter Must Be Figures!')\n",
        "        main()\n",
        "    else:\n",
        "        gallons_required = square_feet_entered/standard_wall_space\n",
        "        total_hours_required = square_feet_entered / hours_required\n",
        "        cost_of_paint = gallons_required * price_paint_gallon\n",
        "        total_labor_charges = total_hours_required * labor_per_hour\n",
        "        total_job_cost = cost_of_paint + total_labor_charges\n",
        "\n",
        "        print(f'The Number of Gallons Required:\\n{gallons_required:,.1f} gal.')\n",
        "        print(f'The Hours of Labor Required:\\n{int(total_hours_required)} Hours')\n",
        "        print(f'The Cost of the Paint:\\n${cost_of_paint:.2f}')\n",
        "        print(f'The Labor Charges:\\n${total_labor_charges:,.2f}')\n",
        "        print(f'The Total Cost of the Paint Job:\\n${total_job_cost:,.2f}')"
      ]
    },
    {
      "cell_type": "code",
      "execution_count": 2,
      "id": "61466898",
      "metadata": {
        "scrolled": true,
        "id": "61466898",
        "colab": {
          "base_uri": "https://localhost:8080/"
        },
        "outputId": "0b6c8d70-3621-4f11-b98c-f2f79749f65a"
      },
      "outputs": [
        {
          "output_type": "stream",
          "name": "stdout",
          "text": [
            "Enter the Square Feet of the Wall Space to be Painted: 115\n",
            "Enter the Price of the Paint Per Gallon: 1\n",
            "The Number of Gallons Required:\n",
            "1.0 gal.\n",
            "The Hours of Labor Required:\n",
            "14 Hours\n",
            "The Cost of the Paint:\n",
            "$1.00\n",
            "The Labor Charges:\n",
            "$287.50\n",
            "The Total Cost of the Paint Job:\n",
            "$288.50\n"
          ]
        }
      ],
      "source": [
        "main()"
      ]
    }
  ],
  "metadata": {
    "kernelspec": {
      "display_name": "Python 3 (ipykernel)",
      "language": "python",
      "name": "python3"
    },
    "language_info": {
      "codemirror_mode": {
        "name": "ipython",
        "version": 3
      },
      "file_extension": ".py",
      "mimetype": "text/x-python",
      "name": "python",
      "nbconvert_exporter": "python",
      "pygments_lexer": "ipython3",
      "version": "3.9.12"
    },
    "colab": {
      "name": "2. Task 2 of Day 1.ipynb",
      "provenance": [],
      "collapsed_sections": []
    }
  },
  "nbformat": 4,
  "nbformat_minor": 5
}
