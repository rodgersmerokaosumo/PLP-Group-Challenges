{
  "cells": [
    {
      "cell_type": "markdown",
      "source": [
        "# Personality test program - Task One (Day 2)"
      ],
      "metadata": {
        "id": "3_hGYoFSQdKF"
      },
      "id": "3_hGYoFSQdKF"
    },
    {
      "cell_type": "markdown",
      "source": [
        "Book Club Points Serendipity Booksellers has a book club that awards points to its customers based on the number of books purchased each month. The points are awarded as follows:\n",
        " * If a customer purchases 0 books, he or she earns 0 points. \n",
        " * If a customer purchases 1 book, he or she earns 6 points. \n",
        " * If a customer purchases 2 books, he or she earns 16 points.\n",
        " * If a customer purchases 3 books, he or she earns 32 points. \n",
        " * If a customer purchases 4 or more books, he or she earns 60 points.\n",
        "  \n",
        "Write a program that asks the user to enter the number of books that he or she has purchased this month and displays the number of points awarded\n"
      ],
      "metadata": {
        "id": "8XtS5sLhL1n_"
      },
      "id": "8XtS5sLhL1n_"
    },
    {
      "cell_type": "code",
      "execution_count": 1,
      "id": "5d37d74d",
      "metadata": {
        "id": "5d37d74d"
      },
      "outputs": [],
      "source": [
        "import time"
      ]
    },
    {
      "cell_type": "code",
      "execution_count": 2,
      "id": "4dc5d27a",
      "metadata": {
        "id": "4dc5d27a"
      },
      "outputs": [],
      "source": [
        "class BookClub():\n",
        "    \n",
        "    def __init__(self, name='customer', books_owned=0, point_total=0):\n",
        "        self.customer_name = name\n",
        "        self.books_owned = books_owned\n",
        "        self.points_earned = point_total\n",
        "        \n",
        "    def purchased_books(self):\n",
        "        try:\n",
        "            books_purchased = int(input(f'Hello {self.customer_name}, Enter the Number of Books Bought This Month: '))\n",
        "        except ValueError:\n",
        "            print('ERROR: Enter Only a Number, like 1, 3, or 7.')\n",
        "            self.purchase_books()\n",
        "        else:\n",
        "            self.books_owned += books_purchased\n",
        "\n",
        "        if self.books_owned == 0:\n",
        "            self.points_earned += 0\n",
        "        elif self.books_owned == 1:\n",
        "            self.points_earned += 6\n",
        "        elif self.books_owned == 2:\n",
        "            self.points_earned += 16\n",
        "        elif self.books_owned == 3:\n",
        "            self.points_earned += 32\n",
        "        elif self.books_owned >= 4:\n",
        "            self.points_earned += 60\n",
        "\n",
        "        print(f'Books Purchased: {self.books_owned}')\n",
        "        print(f'Points Earned: {self.points_earned}')"
      ]
    },
    {
      "cell_type": "code",
      "execution_count": 3,
      "id": "9c511b64",
      "metadata": {
        "id": "9c511b64",
        "colab": {
          "base_uri": "https://localhost:8080/"
        },
        "outputId": "6ab9fcc1-f95b-44fb-ab7c-204dd8344f5e"
      },
      "outputs": [
        {
          "output_type": "stream",
          "name": "stdout",
          "text": [
            "Hello Andrew, Enter the Number of Books Bought This Month: 12\n",
            "Books Purchased: 12\n",
            "Points Earned: 60\n"
          ]
        }
      ],
      "source": [
        "andrew = BookClub('Andrew')\n",
        "\n",
        "andrew.purchased_books()"
      ]
    },
    {
      "cell_type": "code",
      "execution_count": 3,
      "id": "ffaf1df2",
      "metadata": {
        "id": "ffaf1df2"
      },
      "outputs": [],
      "source": [
        ""
      ]
    },
    {
      "cell_type": "code",
      "source": [
        "francline = BookClub('Francline')\n",
        "\n",
        "francline.purchased_books()"
      ],
      "metadata": {
        "id": "Y_ssLsbvmAAz",
        "colab": {
          "base_uri": "https://localhost:8080/"
        },
        "outputId": "06180e8a-d6e3-42a2-d8a8-f31346ee6297"
      },
      "id": "Y_ssLsbvmAAz",
      "execution_count": 4,
      "outputs": [
        {
          "output_type": "stream",
          "name": "stdout",
          "text": [
            "Hello Francline, Enter the Number of Books Bought This Month: 20\n",
            "Books Purchased: 20\n",
            "Points Earned: 60\n"
          ]
        }
      ]
    }
  ],
  "metadata": {
    "kernelspec": {
      "display_name": "Python 3 (ipykernel)",
      "language": "python",
      "name": "python3"
    },
    "language_info": {
      "codemirror_mode": {
        "name": "ipython",
        "version": 3
      },
      "file_extension": ".py",
      "mimetype": "text/x-python",
      "name": "python",
      "nbconvert_exporter": "python",
      "pygments_lexer": "ipython3",
      "version": "3.9.12"
    },
    "colab": {
      "name": "3. Task 1 of Day 2.ipynb",
      "provenance": [],
      "collapsed_sections": []
    }
  },
  "nbformat": 4,
  "nbformat_minor": 5
}