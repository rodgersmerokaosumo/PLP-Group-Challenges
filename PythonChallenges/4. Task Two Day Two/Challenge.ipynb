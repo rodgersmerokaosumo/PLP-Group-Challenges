{
  "cells": [
    {
      "cell_type": "markdown",
      "metadata": {
        "id": "DV87EpN0Qovv"
      },
      "source": [
        "# Challenge - Task Two (Day 2)"
      ]
    },
    {
      "cell_type": "markdown",
      "metadata": {
        "id": "Y_by3BzqMo24"
      },
      "source": [
        "Write a python program that takes user inputs and determines what career the user should learn.\n",
        "Requirements:\n",
        "* Store career options in a list or in variables.\n",
        "* Store career advices in a list.\n",
        "* Store career questions in a list.\n",
        "* Use conditional statements that determines the user selected choice.\n",
        "* When a wrong input is entered the program should print out an error message.\n",
        "* When all the questions are done the program should determine which career    the user should venture in and program should terminate.\n"
      ]
    },
    {
      "cell_type": "code",
      "execution_count": 15,
      "metadata": {
        "id": "JAZqFWkM3S9Q"
      },
      "outputs": [],
      "source": [
        "from IPython.display import clear_output\n",
        "from time import sleep"
      ]
    },
    {
      "cell_type": "code",
      "execution_count": 16,
      "metadata": {
        "id": "dAHVHAfzCDJs"
      },
      "outputs": [],
      "source": [
        "your_choice = None\n",
        "question = None\n",
        "selection = True\n",
        "quiz = True\n",
        "career_choice = None\n",
        "var = None"
      ]
    },
    {
      "cell_type": "code",
      "execution_count": 17,
      "metadata": {
        "id": "BslqO8PxClNU"
      },
      "outputs": [],
      "source": [
        "career_advices = ['Engineering is tough but you can manage',\n",
        "                  'Medicine requires dedication and precision.',\n",
        "                  'Anyone with interest in technology can do Computer Science',\n",
        "                  'Justice-loving people say Law is worth it',\n",
        "                  'Without teachers, no careers will be available',\n",
        "                  'Being a soldier takes one to be courageous']\n",
        "\n",
        "career_questions = ['Will you manage to handle complex equation?',\n",
        "                   'Can you be reliable in future?',\n",
        "                   'Do you have passion in technology?',\n",
        "                   'Will you be just when conducting your cases?',\n",
        "                   'Will you be patient with your students?',\n",
        "                   'Are you ready to serve your nation and its people?']\n",
        "\n",
        "choices_options = ['Engineering', 'Medicine', 'Computer Science', 'Law', 'Education', 'Military']"
      ]
    },
    {
      "cell_type": "code",
      "execution_count": 18,
      "metadata": {
        "id": "bG4HmGcQ2r9d"
      },
      "outputs": [],
      "source": [
        "def confirm(the_choice):\n",
        "    clear_output(wait=True)\n",
        "    the_choice = the_choice - 1\n",
        "    answers = ['Y','N']\n",
        "    answer = input(f\"\\nCAREER QUESTION: {career_questions[the_choice]}\").upper()\n",
        "    if answer not in answers:\n",
        "        print(f'Invalid Responses. Question Only Accepts {answers}')\n",
        "        confirm(the_choice + 1)\n",
        "    else:\n",
        "        if answer == 'Y':\n",
        "            print(f\"Nice, You've Confirmed that Your Best Career Choice is: {choices_options[the_choice].upper()}\")\n",
        "        elif answer == 'N':\n",
        "            print(\"Oops! You Should Check Your Options Again. Kindly Redo the Quiz\")\n",
        "            sleep(1)\n",
        "            clear_output(wait=True)\n",
        "            career_quiz()"
      ]
    },
    {
      "cell_type": "code",
      "execution_count": 19,
      "metadata": {
        "id": "OfXoF3y0N1iy"
      },
      "outputs": [],
      "source": [
        "def career_quiz(options=choices_options):\n",
        "    print('Choose the career that you want to pursue: ')\n",
        "\n",
        "    for s_no, choice in enumerate(options):\n",
        "        print(\"{}). {}\".format(s_no + 1, choice))\n",
        "    \n",
        "    try:\n",
        "        your_choice = int(input('Enter Your Choice: '))\n",
        "        try:\n",
        "            print(f'You have choosen {choices_options[your_choice - 1]} an excellent choice!')\n",
        "            print(f'Now, the ADVICE:\\n{career_advices[your_choice - 1]}')\n",
        "        except IndexError:\n",
        "            print('ERROR: Choice Must Be Between 1 and 6')\n",
        "            sleep(2)\n",
        "            clear_output(wait=True)\n",
        "            career_quiz(options=choices_options)\n",
        "        else:\n",
        "            confirm(your_choice)\n",
        "    except ValueError:\n",
        "        print('ERROR: Choice Must Be A Number')\n",
        "        sleep(2)\n",
        "        clear_output(wait=True)\n",
        "        career_quiz(options=choices_options)"
      ]
    },
    {
      "cell_type": "code",
      "execution_count": 21,
      "metadata": {
        "colab": {
          "base_uri": "https://localhost:8080/"
        },
        "id": "KiKGPTrMSP1D",
        "outputId": "24af72c1-4812-4b11-a63c-3254c1e15bba"
      },
      "outputs": [
        {
          "output_type": "stream",
          "name": "stdout",
          "text": [
            "\n",
            "CAREER QUESTION: Do you have passion in technology?Y\n",
            "Nice, You've Confirmed that Your Best Career Choice is: COMPUTER SCIENCE\n"
          ]
        }
      ],
      "source": [
        "career_quiz()"
      ]
    }
  ],
  "metadata": {
    "accelerator": "GPU",
    "colab": {
      "collapsed_sections": [],
      "name": "4_Task_2_of_Day_2.ipynb",
      "provenance": []
    },
    "gpuClass": "standard",
    "kernelspec": {
      "display_name": "Python 3 (ipykernel)",
      "language": "python",
      "name": "python3"
    },
    "language_info": {
      "codemirror_mode": {
        "name": "ipython",
        "version": 3
      },
      "file_extension": ".py",
      "mimetype": "text/x-python",
      "name": "python",
      "nbconvert_exporter": "python",
      "pygments_lexer": "ipython3",
      "version": "3.9.12"
    }
  },
  "nbformat": 4,
  "nbformat_minor": 0
}