{
  "cells": [
    {
      "cell_type": "markdown",
      "id": "e70a7aa7",
      "metadata": {
        "id": "e70a7aa7"
      },
      "source": [
        "# Door lock system Challenge – Task One (Day 3)\n",
        "\n",
        "Write a python program that simulates a door lock system such that:\n",
        "\n",
        "* Password is set and stored in a variable,\n",
        "* Commands to instruct the door are stored in variables.\n",
        "* When a user enters the wrong password an error message is displayed and prompted to enter the password again.\n",
        "* When a user enters “open” a “The door is now open” statement is displayed,when the “open” is entered more that once, a message is displayed saying, “the door is already open” \n",
        "* When a user enters “close” a “The door is now locked” statement is displayed, when the “open” is entered more that once, a message is displayed saying, “the door is already locked”\n",
        "* When a user enters “quit” the process is terminated and message is displayed.\n",
        "* When a wrong message is entered or invalid key pressed a “Invalid input” message is displayed. \n",
        "* When the door is locked or open, it prints out the last date/time the door was opened, eg “Door Last open  at 2022-07-05 08:46:20.535395”\n"
      ]
    },
    {
      "cell_type": "code",
      "execution_count": 1,
      "id": "990e2b4d",
      "metadata": {
        "id": "990e2b4d"
      },
      "outputs": [],
      "source": [
        "import getpass # helps to masks the user's input, thereby securing the system\n",
        "# from keyboard spying\n",
        "from datetime import datetime # Helps to fetch date\n",
        "import time # Helps to create momentary stops that make the program seamless"
      ]
    },
    {
      "cell_type": "markdown",
      "id": "y2cUDWnYa5nK",
      "metadata": {
        "id": "y2cUDWnYa5nK"
      },
      "source": [
        "# Our OOP Solution, a single class named DoorLockSystem"
      ]
    },
    {
      "cell_type": "code",
      "execution_count": 2,
      "id": "e7cf956e",
      "metadata": {
        "id": "e7cf956e"
      },
      "outputs": [],
      "source": [
        "class DoorLockSystem():\n",
        "    # ALL CLASS MEMBERS AND SOME METHODS HAVE BEEN MADE PRIVATE.\n",
        "    # THIS IS TO PREVENT USERS FROM CIRCUMVENTING THE SYSTEM\n",
        "    # HOWEVER, WE HAVE USED NAME-MANGLING WITHIN THE SYSTEM\n",
        "    # TO ALLOW US TO CHANGE THE STATE OF THESE MEMBERS INTERNALLY \n",
        "\n",
        "    __door_closed = True # Switches to False when the door opens\n",
        "    # Starts as True because by default, the Door Lock System is closed,\n",
        "    # and so is the door.\n",
        "    \n",
        "    __door_opened = False # Switches to True when the door closes\n",
        "    \n",
        "    __session_on = False # Once the password is entered successfully,\n",
        "    # This switches to True\n",
        "    __session_count = 0 # Pays attention to how many times you log into the system\n",
        "    # Any count should prompt the system to ask for your password\n",
        "    __commands = ['open', 'close', 'quit'] # User can't change, add, or remove\n",
        "    # commands, unless they understand name-mangling. That makes the system\n",
        "    # solid, and only OOP expert can crack it.\n",
        "    \n",
        "    __times_password_entered = 0 # Keep count of the number a user enters\n",
        "    # their password. After 3 wrong tries, the system will display the password\n",
        "    # and give the user another round of chances\n",
        "\n",
        "    __password_created = False # Switches to True when a user successfully\n",
        "    # creates a password. Password should not be a space, it\n",
        "    __password_success = False # Switches to False when a user logs into his/her\n",
        "    # session successfully\n",
        "    __first_time = True # Helps to control a particular display message\n",
        "    # Switches to False when user has already interacted with the system once\n",
        "\n",
        "    def __init__(self, current_user='user'):\n",
        "        # We treat users of the Group 28 Door Lock System as objects\n",
        "        # One important attribute is {current_user}, which is 'user' by default,\n",
        "        # and {new_password}, which is a NoneType by default since\n",
        "        # it will be changed when the user creates one\n",
        "        self.__current_user = current_user\n",
        "        self.__password = None\n",
        "        # The password is a private member for security purposes\n",
        "    \n",
        "    def create_password(self):\n",
        "        created_password = getpass.getpass(f'Hey {self._DoorLockSystem__current_user}, Create Your Lock Door Password: ')\n",
        "        # Any 4-character password works for the system\n",
        "        if ' ' in created_password:\n",
        "            print('ALERT: Password Cannot be Blank or Have a Blank Space')\n",
        "            self.create_password()\n",
        "        elif len(created_password) < 3:\n",
        "            print('ALERT: Password Cannot be Shorter than 4 Characters')\n",
        "            self.create_password()\n",
        "        if len(created_password) > 3:\n",
        "            print('SUCCESS: Password Created')\n",
        "            self._DoorLockSystem__password = created_password\n",
        "            self._DoorLockSystem__password_created = True\n",
        "            # Once the password entered is valid, state of password_created changes\n",
        "    \n",
        "    # Throughout our code have use name-mangling to access private class and\n",
        "    # instances members to make the system functional\n",
        "\n",
        "    def enter_password(self):\n",
        "        # Before the system enters a password, the state of password_success is\n",
        "        # False. Then, when the password is entered successfully\n",
        "        # The state changes to True, same goes for session_on.\n",
        "        # That means the system is ready to be used\n",
        "        while self._DoorLockSystem__password_success == False:\n",
        "            if self._DoorLockSystem__times_password_entered < 3:\n",
        "                if self._DoorLockSystem__session_count == 0:\n",
        "                    entered_password = getpass.getpass(f'Hey {self._DoorLockSystem__current_user}, Please Enter Your Lock Door Password: ')\n",
        "                else:\n",
        "                    entered_password = getpass.getpass(f'Welcome Back, {self._DoorLockSystem__current_user}, Please Enter Your Lock Door Password Again: ')\n",
        "\n",
        "                if entered_password != self._DoorLockSystem__password:\n",
        "                    print(\"ERROR: Password Entered Doesn't Match Password Created \\n\")\n",
        "                    time.sleep(1)\n",
        "                    self._DoorLockSystem__times_password_entered += 1\n",
        "                    self._DoorLockSystem__session_on = False\n",
        "                    self._DoorLockSystem__password_success = False\n",
        "                    self.enter_password()\n",
        "                else:\n",
        "                    print(\"SUCCESS: Password Correctly Entered, Door Session Started\")\n",
        "                    self._DoorLockSystem__session_on = True\n",
        "                    self._DoorLockSystem__password_success = True\n",
        "                    break\n",
        "            elif self._DoorLockSystem__times_password_entered == 3:\n",
        "                print(f'ALERT: Password Entered 3 Times')\n",
        "                time.sleep(1)\n",
        "                print(f'ALERT: System Will Now Show Your Password')\n",
        "                time.sleep(1)\n",
        "                print(f'ALERT: Password Entered: {self._DoorLockSystem__password}')\n",
        "                self._DoorLockSystem__times_password_entered = 0\n",
        "                self._DoorLockSystem__password_success = False\n",
        "                time.sleep(1)\n",
        "                self.enter_password()\n",
        "                            \n",
        "    def enter_command(self):\n",
        "        # MAIN METHOD\n",
        "        # Checks if password was created\n",
        "        # If it wasn't (meaning that it is still None),\n",
        "        # this method sends the user back to creating a password.\n",
        "        # Then, command execution will continue.\n",
        "        if self._DoorLockSystem__password is None:\n",
        "            print('ERROR: You First Need to Set a Password')\n",
        "            self.create_password()\n",
        "            self.enter_command()\n",
        "        else:\n",
        "            if self._DoorLockSystem__session_count > 0:\n",
        "                 self.enter_password()\n",
        "            if self._DoorLockSystem__first_time == True:\n",
        "                time.sleep(1)\n",
        "                print('ALERT: Opening Command Box [First Time]')\n",
        "                time.sleep(1)\n",
        "                self._DoorLockSystem__first_time = False\n",
        "            \n",
        "            \n",
        "            command_given = input('Enter Your Command: ')\n",
        "\n",
        "            # Checks the validity of the command that the user has entered\n",
        "            if command_given not in self._DoorLockSystem__commands:\n",
        "                print(f'ERROR: Invalid Input, Enter Any of These Commands: {self._DoorLockSystem__commands}')\n",
        "                self.enter_command()\n",
        "            \n",
        "            elif command_given == 'open':\n",
        "                if self._DoorLockSystem__door_opened == True:\n",
        "                    print('ERROR: Door is Currently Open')\n",
        "                    time.sleep(1)\n",
        "                    print('ALERT: Loading Command Box...')\n",
        "                    time.sleep(1)\n",
        "                    self.enter_command()\n",
        "                elif self._DoorLockSystem__door_opened == False:\n",
        "                    self._DoorLockSystem__open_command()  \n",
        "            \n",
        "            elif command_given == 'close':\n",
        "                if self._DoorLockSystem__door_closed == True:\n",
        "                    print('ERROR: Door is Currently Closed')\n",
        "                    self.enter_command()\n",
        "                elif self._DoorLockSystem__door_closed == False:\n",
        "                    self._DoorLockSystem__close_command()           \n",
        "            \n",
        "            elif command_given == 'quit':\n",
        "                if self._DoorLockSystem__door_opened == True:\n",
        "                    print('ERROR: Door Still Open, Cannot Quit System')\n",
        "                    time.sleep(1)\n",
        "                    print('ALERT: Loading Command Box...')\n",
        "                    time.sleep(1)\n",
        "                    self.enter_command()\n",
        "     \n",
        "                elif self._DoorLockSystem__door_closed == True:\n",
        "                    self._DoorLockSystem__quit_command()\n",
        "            \n",
        "    def __open_command(self):\n",
        "        # Triggered if the door is open, switches door_opened to True\n",
        "        # and, for code robustness, it switches door_closed to False\n",
        "        self._DoorLockSystem__door_opened = True\n",
        "        self._DoorLockSystem__door_closed = False\n",
        "        door_open_time = datetime.now()\n",
        "        print(f\"PROCESS: Door Opening...\")\n",
        "        time.sleep(1)\n",
        "        print(f\"SUCCESS: Door Last Opened at {door_open_time}\")\n",
        "        time.sleep(1)\n",
        "        print('ALERT: Loading Command Box...')\n",
        "        time.sleep(1)\n",
        "        self.enter_command()\n",
        "    \n",
        "    def __close_command(self):\n",
        "        # Triggered if the door is closed, switches door_opened to False\n",
        "        # and, for code robustness, it switches door_closed to True\n",
        "        self._DoorLockSystem__door_opened = False\n",
        "        self._DoorLockSystem__door_closed = True\n",
        "        door_open_time = datetime.now()\n",
        "        print(f\"PROCESS: Door Closing...\")\n",
        "        time.sleep(1)\n",
        "        print(f\"SUCCESS: Door Last Closed at {door_open_time}\")\n",
        "        time.sleep(1)\n",
        "        print('ALERT: Loading Command Box...')\n",
        "        time.sleep(1)\n",
        "        self.enter_command()\n",
        "    \n",
        "    def __quit_command(self):\n",
        "        # Triggered if a user closes the system\n",
        "        # Importantly, it reverts password_success back to False\n",
        "        # Since the event is now complete\n",
        "        # And the user will now need to enter his/her password again\n",
        "        door_open_time = datetime.now()\n",
        "        print(f\"SUCCESS: System Closed at {door_open_time}\")\n",
        "        self._DoorLockSystem__session_count += 1\n",
        "        self._DoorLockSystem__password_success = False"
      ]
    },
    {
      "cell_type": "markdown",
      "id": "I9jW2k6-bZwP",
      "metadata": {
        "id": "I9jW2k6-bZwP"
      },
      "source": [
        "# Implementing the Solution"
      ]
    },
    {
      "cell_type": "markdown",
      "id": "XL_Oc47_bo84",
      "metadata": {
        "id": "XL_Oc47_bo84"
      },
      "source": [
        "## Method One: Starting From the Top"
      ]
    },
    {
      "cell_type": "markdown",
      "id": "E52MTdGkb7a2",
      "metadata": {
        "id": "E52MTdGkb7a2"
      },
      "source": [
        "#### 1. Create an Instance of the class DoorLockSystem"
      ]
    },
    {
      "cell_type": "code",
      "execution_count": 3,
      "id": "8cf7f00b",
      "metadata": {
        "id": "8cf7f00b"
      },
      "outputs": [],
      "source": [
        "cindy = DoorLockSystem('Cindy')"
      ]
    },
    {
      "cell_type": "markdown",
      "id": "BqXsK3MVcHA-",
      "metadata": {
        "id": "BqXsK3MVcHA-"
      },
      "source": [
        "#### 2. Create a Password"
      ]
    },
    {
      "cell_type": "code",
      "execution_count": 4,
      "id": "MEQiJFHNKvJ-",
      "metadata": {
        "colab": {
          "base_uri": "https://localhost:8080/"
        },
        "id": "MEQiJFHNKvJ-",
        "outputId": "63c971cf-caa3-4e3c-f3db-de61e87f54b2"
      },
      "outputs": [
        {
          "output_type": "stream",
          "name": "stdout",
          "text": [
            "Hey Cindy, Create Your Lock Door Password: ··········\n",
            "SUCCESS: Password Created\n"
          ]
        }
      ],
      "source": [
        "cindy.create_password()"
      ]
    },
    {
      "cell_type": "markdown",
      "id": "M15BVYIYdI9y",
      "metadata": {
        "id": "M15BVYIYdI9y"
      },
      "source": [
        "#### 3. Enter the Created Password"
      ]
    },
    {
      "cell_type": "code",
      "execution_count": 5,
      "id": "omPezIRudI97",
      "metadata": {
        "colab": {
          "base_uri": "https://localhost:8080/"
        },
        "id": "omPezIRudI97",
        "outputId": "bbb94299-b71c-4f84-cb8b-6b884c3307bd"
      },
      "outputs": [
        {
          "output_type": "stream",
          "name": "stdout",
          "text": [
            "Hey Cindy, Please Enter Your Lock Door Password: ··········\n",
            "SUCCESS: Password Correctly Entered, Door Session Started\n"
          ]
        }
      ],
      "source": [
        "cindy.enter_password()"
      ]
    },
    {
      "cell_type": "markdown",
      "id": "HycytZ_FdRzv",
      "metadata": {
        "id": "HycytZ_FdRzv"
      },
      "source": [
        "#### 3. Start the System (Enter the Commands)"
      ]
    },
    {
      "cell_type": "code",
      "execution_count": 6,
      "id": "0i6SmgaKdRzw",
      "metadata": {
        "colab": {
          "base_uri": "https://localhost:8080/"
        },
        "id": "0i6SmgaKdRzw",
        "outputId": "6c429278-8334-460c-c710-7ded3970c6e2"
      },
      "outputs": [
        {
          "output_type": "stream",
          "name": "stdout",
          "text": [
            "ALERT: Opening Command Box [First Time]\n",
            "Enter Your Command: open now\n",
            "ERROR: Invalid Input, Enter Any of These Commands: ['open', 'close', 'quit']\n",
            "Enter Your Command: open\n",
            "PROCESS: Door Opening...\n",
            "SUCCESS: Door Last Opened at 2022-07-09 21:40:57.468780\n",
            "ALERT: Loading Command Box...\n",
            "Enter Your Command: close\n",
            "PROCESS: Door Closing...\n",
            "SUCCESS: Door Last Closed at 2022-07-09 21:41:19.299267\n",
            "ALERT: Loading Command Box...\n",
            "Enter Your Command: quit\n",
            "SUCCESS: System Closed at 2022-07-09 21:41:28.699933\n"
          ]
        }
      ],
      "source": [
        "cindy.enter_command()"
      ]
    },
    {
      "cell_type": "code",
      "execution_count": 7,
      "id": "a1Y9wLjndl6g",
      "metadata": {
        "colab": {
          "base_uri": "https://localhost:8080/"
        },
        "id": "a1Y9wLjndl6g",
        "outputId": "467ba10b-18de-47dd-80df-20627dd07ddd"
      },
      "outputs": [
        {
          "output_type": "stream",
          "name": "stdout",
          "text": [
            "Welcome Back, Cindy, Please Enter Your Lock Door Password Again: ··········\n",
            "SUCCESS: Password Correctly Entered, Door Session Started\n",
            "Enter Your Command: open\n",
            "PROCESS: Door Opening...\n",
            "SUCCESS: Door Last Opened at 2022-07-09 21:41:49.588892\n",
            "ALERT: Loading Command Box...\n",
            "Enter Your Command: close\n",
            "PROCESS: Door Closing...\n",
            "SUCCESS: Door Last Closed at 2022-07-09 21:41:58.358063\n",
            "ALERT: Loading Command Box...\n",
            "Enter Your Command: dw\n",
            "ERROR: Invalid Input, Enter Any of These Commands: ['open', 'close', 'quit']\n",
            "Enter Your Command: quit\n",
            "SUCCESS: System Closed at 2022-07-09 21:42:39.011907\n"
          ]
        }
      ],
      "source": [
        "cindy.enter_command()"
      ]
    },
    {
      "cell_type": "code",
      "execution_count": 8,
      "id": "xsQxv1wfmkea",
      "metadata": {
        "colab": {
          "base_uri": "https://localhost:8080/"
        },
        "id": "xsQxv1wfmkea",
        "outputId": "cffb4522-e572-472e-e4be-895c0866aac2"
      },
      "outputs": [
        {
          "output_type": "stream",
          "name": "stdout",
          "text": [
            "Welcome Back, Cindy, Please Enter Your Lock Door Password Again: ··········\n",
            "SUCCESS: Password Correctly Entered, Door Session Started\n",
            "Enter Your Command: open\n",
            "PROCESS: Door Opening...\n",
            "SUCCESS: Door Last Opened at 2022-07-09 21:43:01.271523\n",
            "ALERT: Loading Command Box...\n",
            "Enter Your Command: close\n",
            "PROCESS: Door Closing...\n",
            "SUCCESS: Door Last Closed at 2022-07-09 21:43:08.179689\n",
            "ALERT: Loading Command Box...\n",
            "Enter Your Command: quit\n",
            "SUCCESS: System Closed at 2022-07-09 21:43:17.439124\n"
          ]
        }
      ],
      "source": [
        "cindy.enter_command()"
      ]
    },
    {
      "cell_type": "markdown",
      "id": "P4CuBDQpoSjg",
      "metadata": {
        "id": "P4CuBDQpoSjg"
      },
      "source": [
        "## Method Two: 'Skipping' to the Commands"
      ]
    },
    {
      "cell_type": "markdown",
      "id": "V0rFs3D8oSjh",
      "metadata": {
        "id": "V0rFs3D8oSjh"
      },
      "source": [
        "#### 1. Create an Instance of the class DoorLockSystem"
      ]
    },
    {
      "cell_type": "code",
      "execution_count": 9,
      "id": "jXch5nu-oSjh",
      "metadata": {
        "id": "jXch5nu-oSjh"
      },
      "outputs": [],
      "source": [
        "dedan = DoorLockSystem('Dedan')"
      ]
    },
    {
      "cell_type": "markdown",
      "id": "PB4kmM3uoSjj",
      "metadata": {
        "id": "PB4kmM3uoSjj"
      },
      "source": [
        "#### 3. Start the System (Enter the Commands)"
      ]
    },
    {
      "cell_type": "code",
      "execution_count": 10,
      "id": "wyk_n359oSjk",
      "metadata": {
        "colab": {
          "base_uri": "https://localhost:8080/"
        },
        "id": "wyk_n359oSjk",
        "outputId": "01a0e51d-a502-4951-ffe6-1307420070fa"
      },
      "outputs": [
        {
          "output_type": "stream",
          "name": "stdout",
          "text": [
            "ERROR: You First Need to Set a Password\n",
            "Hey Dedan, Create Your Lock Door Password: ··········\n",
            "SUCCESS: Password Created\n",
            "ALERT: Opening Command Box [First Time]\n",
            "Enter Your Command: open\n",
            "PROCESS: Door Opening...\n",
            "SUCCESS: Door Last Opened at 2022-07-09 21:43:37.074595\n",
            "ALERT: Loading Command Box...\n",
            "Enter Your Command: close\n",
            "PROCESS: Door Closing...\n",
            "SUCCESS: Door Last Closed at 2022-07-09 21:43:43.595270\n",
            "ALERT: Loading Command Box...\n",
            "Enter Your Command: quit\n",
            "SUCCESS: System Closed at 2022-07-09 21:43:49.859496\n"
          ]
        }
      ],
      "source": [
        "dedan.enter_command()"
      ]
    },
    {
      "cell_type": "code",
      "execution_count": 11,
      "id": "rMC543pioSjk",
      "metadata": {
        "colab": {
          "base_uri": "https://localhost:8080/"
        },
        "id": "rMC543pioSjk",
        "outputId": "54785032-4dc4-4c57-9e76-9571ac41e9e2"
      },
      "outputs": [
        {
          "output_type": "stream",
          "name": "stdout",
          "text": [
            "Welcome Back, Dedan, Please Enter Your Lock Door Password Again: ··········\n",
            "SUCCESS: Password Correctly Entered, Door Session Started\n",
            "Enter Your Command: open\n",
            "PROCESS: Door Opening...\n",
            "SUCCESS: Door Last Opened at 2022-07-09 21:44:03.091683\n",
            "ALERT: Loading Command Box...\n",
            "Enter Your Command: close\n",
            "PROCESS: Door Closing...\n",
            "SUCCESS: Door Last Closed at 2022-07-09 21:44:08.977593\n",
            "ALERT: Loading Command Box...\n",
            "Enter Your Command: quit\n",
            "SUCCESS: System Closed at 2022-07-09 21:44:14.223526\n"
          ]
        }
      ],
      "source": [
        "dedan.enter_command()"
      ]
    },
    {
      "cell_type": "code",
      "execution_count": 12,
      "id": "r24ZNtb4oSjk",
      "metadata": {
        "colab": {
          "base_uri": "https://localhost:8080/"
        },
        "id": "r24ZNtb4oSjk",
        "outputId": "635f08f8-9996-46a5-ca4e-8b659e73b974"
      },
      "outputs": [
        {
          "output_type": "stream",
          "name": "stdout",
          "text": [
            "Welcome Back, Dedan, Please Enter Your Lock Door Password Again: ··········\n",
            "SUCCESS: Password Correctly Entered, Door Session Started\n",
            "Enter Your Command: open\n",
            "PROCESS: Door Opening...\n",
            "SUCCESS: Door Last Opened at 2022-07-09 21:44:26.940678\n",
            "ALERT: Loading Command Box...\n",
            "Enter Your Command: close\n",
            "PROCESS: Door Closing...\n",
            "SUCCESS: Door Last Closed at 2022-07-09 21:44:34.855514\n",
            "ALERT: Loading Command Box...\n",
            "Enter Your Command: quit\n",
            "SUCCESS: System Closed at 2022-07-09 21:44:41.829691\n"
          ]
        }
      ],
      "source": [
        "dedan.enter_command()"
      ]
    }
  ],
  "metadata": {
    "colab": {
      "collapsed_sections": [],
      "name": "5. Task 1 of Day 3.ipynb",
      "provenance": []
    },
    "kernelspec": {
      "display_name": "Python 3 (ipykernel)",
      "language": "python",
      "name": "python3"
    },
    "language_info": {
      "codemirror_mode": {
        "name": "ipython",
        "version": 3
      },
      "file_extension": ".py",
      "mimetype": "text/x-python",
      "name": "python",
      "nbconvert_exporter": "python",
      "pygments_lexer": "ipython3",
      "version": "3.9.12"
    }
  },
  "nbformat": 4,
  "nbformat_minor": 5
}