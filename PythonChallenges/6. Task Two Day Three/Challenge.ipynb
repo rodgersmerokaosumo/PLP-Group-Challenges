{
  "nbformat": 4,
  "nbformat_minor": 0,
  "metadata": {
    "colab": {
      "name": "6. Task 2 of Day 3.ipynb",
      "provenance": [],
      "collapsed_sections": []
    },
    "kernelspec": {
      "name": "python3",
      "display_name": "Python 3"
    },
    "language_info": {
      "name": "python"
    }
  },
  "cells": [
    {
      "cell_type": "markdown",
      "source": [
        "# Day 3: Challenge Task Two (Day 3)"
      ],
      "metadata": {
        "id": "Vk2BnXOnP1k1"
      }
    },
    {
      "cell_type": "markdown",
      "source": [
        "Calories from Fat and Carbohydrates A nutritionist who works for a fitness club helps members by evaluating their diets. As part of her evaluation, she asks members for the number of fat grams and carbohydrate grams that they consumed in a day. Then, she calculates the number of calories that result from the fat, using the following formula: \n",
        "Calories from fats fat grams * 9 \n",
        "Next, she calculates the number of calories that result from the carbohydrates, using the following formula: \n",
        "Calories from carbs carb grams * 4 \n",
        "The nutritionist asks you to write a program that will make these calculations.\n"
      ],
      "metadata": {
        "id": "iS6wadBPPvae"
      }
    },
    {
      "cell_type": "code",
      "execution_count": null,
      "metadata": {
        "id": "xZ2O7R_g9zqZ"
      },
      "outputs": [],
      "source": [
        "def main():\n",
        "    member_name = input('Enter Name of Fitness Club Member: ')\n",
        "    try:\n",
        "        fat_grams = int(input(\"Enter Number of Fat Grams Consumed (in grams): \"))\n",
        "        carb_grams = int(input(\"Enter Number of Carbohydrates Consumed (in grams): \"))\n",
        "    except ValueError:\n",
        "        print('ERROR: Value Should Be a Whole Number')\n",
        "        main()\n",
        "    else:\n",
        "        fat_calories = fat_grams * 9\n",
        "        carbs_calories = carb_grams * 4\n",
        "\n",
        "    print(f\"\\nDear {member_name}, \\nYour Calories from Fat are {fat_calories:,} cal. \\nYour Calories from Carbohydrates are {carbs_calories:,} cal.\")"
      ]
    },
    {
      "cell_type": "code",
      "source": [
        "main()"
      ],
      "metadata": {
        "id": "XIRAppCO_yA5",
        "colab": {
          "base_uri": "https://localhost:8080/"
        },
        "outputId": "97f58927-41ea-4030-f9f2-68b42ef58785"
      },
      "execution_count": null,
      "outputs": [
        {
          "output_type": "stream",
          "name": "stdout",
          "text": [
            "Enter Name of Fitness Club Member: Cindy Ngugi\n",
            "Enter Number of Fat Grams Consumed (in grams): 250\n",
            "Enter Number of Carbohydrates Consumed (in grams): 1000\n",
            "\n",
            "Dear Cindy Ngugi, \n",
            "Your Calories from Fat are 2,250 cal. \n",
            "Your Calories from Carbohydrates are 4,000 cal.\n"
          ]
        }
      ]
    },
    {
      "cell_type": "code",
      "source": [
        ""
      ],
      "metadata": {
        "id": "fgw4S3PkqmGy"
      },
      "execution_count": null,
      "outputs": []
    }
  ]
}